{
 "cells": [
  {
   "cell_type": "code",
   "execution_count": 108,
   "id": "ae9f53fa",
   "metadata": {},
   "outputs": [],
   "source": [
    "import pandas as pd \n",
    "import numpy as np\n",
    "import matplotlib\n",
    "import matplotlib.pyplot as plt\n",
    "import seaborn as sb\n",
    "%matplotlib inline \n",
    "\n",
    "from sklearn.preprocessing import LabelEncoder\n",
    "\n",
    "from sklearn.ensemble import RandomForestClassifier\n",
    "from sklearn.metrics import accuracy_score, confusion_matrix, precision_score, recall_score, ConfusionMatrixDisplay\n",
    "from sklearn.model_selection import RandomizedSearchCV, train_test_split\n",
    "from scipy.stats import randint\n",
    "import gc\n",
    "from datetime import datetime \n",
    "from sklearn.model_selection import train_test_split\n",
    "from sklearn.metrics import roc_auc_score\n",
    "from sklearn.ensemble import RandomForestClassifier\n",
    "from sklearn.ensemble import GradientBoostingClassifier\n",
    "from sklearn.metrics import classification_report"
   ]
  },
  {
   "cell_type": "markdown",
   "id": "b3c3f8be",
   "metadata": {},
   "source": [
    "1. Ethical considerations: There are many ethical considerations one must keep in mind when analyzing data. For data collection, it is important to have prior and clear consent from the participants whose data is being used, regardless of how anonymous it is. In terms of storage, it is important to discard any data that could compromise the identity of the participant. For instance, it is not a good idea to store the participant's name, as combined with their major, university and year, it could give away their identity. It is also imperative that there are robust security measures in place to guard the data. If it is stored without much security, it could be at risk of being accessed by unwanted or malicious parties. Data biases could also arise, such as only surveying students from a particular major/year/university or being more active during data collection at certain times of the day than at others. \n",
    "\n",
    "2. Business outcome implications: If data is not correctly collected or stored, it could create a negative impact for a business. If the data is not properly stored and gets compromised, customers lose faith in the business and could face risks due to privacy invasion. If the data collected has a lot of bias, the models being trained will be trained on that bias, and lead to misguided and biased insights. This could mean that the business could lose customers, invest in unprofitable scenarios or be unable to capitalize on important attributes. \n",
    "\n",
    "3. Technical implications: It is important to safeguard the data and ensure the correct security protocols are in place. This requires considerable research into existing tools and consulting with good data engineers. Depending on the tool used to collect data, bias needs to be handled. For instance, letting customers enter their own information instead of relying on the server to do so, or expecting mandatory participation to avoid skewed data. If a lot of data bias is present in the data, the trained model's results are likely to be biased as well. This would make the data scientist's or analyst's job considerable harder, as they would try to get better results from a flawed dataset. It could also become more time consuming to reduce this bias from the data. "
   ]
  },
  {
   "cell_type": "markdown",
   "id": "9007d1fc",
   "metadata": {},
   "source": [
    "Data exploration"
   ]
  },
  {
   "cell_type": "code",
   "execution_count": 3,
   "id": "fb87dca7",
   "metadata": {},
   "outputs": [],
   "source": [
    "df = pd.read_csv(\"Dataset.csv\")"
   ]
  },
  {
   "cell_type": "code",
   "execution_count": 73,
   "id": "0f806f18",
   "metadata": {},
   "outputs": [
    {
     "data": {
      "text/plain": [
       "(5000, 5)"
      ]
     },
     "execution_count": 73,
     "metadata": {},
     "output_type": "execute_result"
    }
   ],
   "source": [
    "df.shape"
   ]
  },
  {
   "cell_type": "code",
   "execution_count": 4,
   "id": "e892ca5a",
   "metadata": {
    "scrolled": true
   },
   "outputs": [
    {
     "data": {
      "text/html": [
       "<div>\n",
       "<style scoped>\n",
       "    .dataframe tbody tr th:only-of-type {\n",
       "        vertical-align: middle;\n",
       "    }\n",
       "\n",
       "    .dataframe tbody tr th {\n",
       "        vertical-align: top;\n",
       "    }\n",
       "\n",
       "    .dataframe thead th {\n",
       "        text-align: right;\n",
       "    }\n",
       "</style>\n",
       "<table border=\"1\" class=\"dataframe\">\n",
       "  <thead>\n",
       "    <tr style=\"text-align: right;\">\n",
       "      <th></th>\n",
       "      <th>Year</th>\n",
       "      <th>Major</th>\n",
       "      <th>University</th>\n",
       "      <th>Time</th>\n",
       "      <th>Order</th>\n",
       "    </tr>\n",
       "  </thead>\n",
       "  <tbody>\n",
       "    <tr>\n",
       "      <th>0</th>\n",
       "      <td>Year 2</td>\n",
       "      <td>Physics</td>\n",
       "      <td>Indiana State University</td>\n",
       "      <td>12</td>\n",
       "      <td>Fried Catfish Basket</td>\n",
       "    </tr>\n",
       "    <tr>\n",
       "      <th>1</th>\n",
       "      <td>Year 3</td>\n",
       "      <td>Chemistry</td>\n",
       "      <td>Ball State University</td>\n",
       "      <td>14</td>\n",
       "      <td>Sugar Cream Pie</td>\n",
       "    </tr>\n",
       "    <tr>\n",
       "      <th>2</th>\n",
       "      <td>Year 3</td>\n",
       "      <td>Chemistry</td>\n",
       "      <td>Butler University</td>\n",
       "      <td>12</td>\n",
       "      <td>Indiana Pork Chili</td>\n",
       "    </tr>\n",
       "    <tr>\n",
       "      <th>3</th>\n",
       "      <td>Year 2</td>\n",
       "      <td>Biology</td>\n",
       "      <td>Indiana State University</td>\n",
       "      <td>11</td>\n",
       "      <td>Fried Catfish Basket</td>\n",
       "    </tr>\n",
       "    <tr>\n",
       "      <th>4</th>\n",
       "      <td>Year 3</td>\n",
       "      <td>Business Administration</td>\n",
       "      <td>Butler University</td>\n",
       "      <td>12</td>\n",
       "      <td>Indiana Corn on the Cob (brushed with garlic b...</td>\n",
       "    </tr>\n",
       "  </tbody>\n",
       "</table>\n",
       "</div>"
      ],
      "text/plain": [
       "     Year                    Major                University  Time  \\\n",
       "0  Year 2                  Physics  Indiana State University    12   \n",
       "1  Year 3                Chemistry     Ball State University    14   \n",
       "2  Year 3                Chemistry         Butler University    12   \n",
       "3  Year 2                  Biology  Indiana State University    11   \n",
       "4  Year 3  Business Administration         Butler University    12   \n",
       "\n",
       "                                               Order  \n",
       "0                               Fried Catfish Basket  \n",
       "1                                    Sugar Cream Pie  \n",
       "2                                 Indiana Pork Chili  \n",
       "3                               Fried Catfish Basket  \n",
       "4  Indiana Corn on the Cob (brushed with garlic b...  "
      ]
     },
     "execution_count": 4,
     "metadata": {},
     "output_type": "execute_result"
    }
   ],
   "source": [
    "df.head()"
   ]
  },
  {
   "cell_type": "code",
   "execution_count": 15,
   "id": "2ac028fe",
   "metadata": {},
   "outputs": [
    {
     "data": {
      "text/html": [
       "<div>\n",
       "<style scoped>\n",
       "    .dataframe tbody tr th:only-of-type {\n",
       "        vertical-align: middle;\n",
       "    }\n",
       "\n",
       "    .dataframe tbody tr th {\n",
       "        vertical-align: top;\n",
       "    }\n",
       "\n",
       "    .dataframe thead th {\n",
       "        text-align: right;\n",
       "    }\n",
       "</style>\n",
       "<table border=\"1\" class=\"dataframe\">\n",
       "  <thead>\n",
       "    <tr style=\"text-align: right;\">\n",
       "      <th></th>\n",
       "      <th>Time</th>\n",
       "    </tr>\n",
       "  </thead>\n",
       "  <tbody>\n",
       "    <tr>\n",
       "      <th>count</th>\n",
       "      <td>5000.000000</td>\n",
       "    </tr>\n",
       "    <tr>\n",
       "      <th>mean</th>\n",
       "      <td>12.528200</td>\n",
       "    </tr>\n",
       "    <tr>\n",
       "      <th>std</th>\n",
       "      <td>1.357193</td>\n",
       "    </tr>\n",
       "    <tr>\n",
       "      <th>min</th>\n",
       "      <td>8.000000</td>\n",
       "    </tr>\n",
       "    <tr>\n",
       "      <th>25%</th>\n",
       "      <td>12.000000</td>\n",
       "    </tr>\n",
       "    <tr>\n",
       "      <th>50%</th>\n",
       "      <td>13.000000</td>\n",
       "    </tr>\n",
       "    <tr>\n",
       "      <th>75%</th>\n",
       "      <td>13.000000</td>\n",
       "    </tr>\n",
       "    <tr>\n",
       "      <th>max</th>\n",
       "      <td>17.000000</td>\n",
       "    </tr>\n",
       "  </tbody>\n",
       "</table>\n",
       "</div>"
      ],
      "text/plain": [
       "              Time\n",
       "count  5000.000000\n",
       "mean     12.528200\n",
       "std       1.357193\n",
       "min       8.000000\n",
       "25%      12.000000\n",
       "50%      13.000000\n",
       "75%      13.000000\n",
       "max      17.000000"
      ]
     },
     "execution_count": 15,
     "metadata": {},
     "output_type": "execute_result"
    }
   ],
   "source": [
    "df.describe()"
   ]
  },
  {
   "cell_type": "code",
   "execution_count": 18,
   "id": "48269486",
   "metadata": {},
   "outputs": [
    {
     "data": {
      "text/plain": [
       "array(['Year 2', 'Year 3', 'Year 3', ..., 'Year 3', 'Year 3', 'Year 2'],\n",
       "      dtype=object)"
      ]
     },
     "execution_count": 18,
     "metadata": {},
     "output_type": "execute_result"
    }
   ],
   "source": [
    "year = df['Year'].values\n",
    "year"
   ]
  },
  {
   "cell_type": "code",
   "execution_count": 33,
   "id": "c2f2085d",
   "metadata": {},
   "outputs": [],
   "source": [
    "uni = df['University']"
   ]
  },
  {
   "cell_type": "code",
   "execution_count": 20,
   "id": "96d6ec70",
   "metadata": {},
   "outputs": [
    {
     "data": {
      "text/plain": [
       "array(['Physics', 'Chemistry', 'Chemistry', ..., 'Chemistry', 'Astronomy',\n",
       "       'Economics'], dtype=object)"
      ]
     },
     "execution_count": 20,
     "metadata": {},
     "output_type": "execute_result"
    }
   ],
   "source": [
    "major = df['Major'].values\n",
    "major"
   ]
  },
  {
   "cell_type": "code",
   "execution_count": 23,
   "id": "657c0bd4",
   "metadata": {},
   "outputs": [],
   "source": [
    "order = df['Order'].values"
   ]
  },
  {
   "cell_type": "raw",
   "id": "7537bf93",
   "metadata": {},
   "source": [
    "In the plot below, we can see that the year is highly unbalanced. We don't have enough data for year 1 and year 4 students. This is a skewed dataset and introduces bias towards year 3 and year 4 students."
   ]
  },
  {
   "cell_type": "code",
   "execution_count": 30,
   "id": "89a99ad1",
   "metadata": {},
   "outputs": [
    {
     "data": {
      "text/plain": [
       "Year 3    2719\n",
       "Year 2    2273\n",
       "Year 1       5\n",
       "Year 4       3\n",
       "Name: Year, dtype: int64"
      ]
     },
     "execution_count": 30,
     "metadata": {},
     "output_type": "execute_result"
    },
    {
     "data": {
      "image/png": "[encoded data removed]",
      "text/plain": [
       "<Figure size 432x288 with 1 Axes>"
      ]
     },
     "metadata": {
      "needs_background": "light"
     },
     "output_type": "display_data"
    }
   ],
   "source": [
    "plt.hist(year)\n",
    "df['Year'].value_counts()"
   ]
  },
  {
   "cell_type": "code",
   "execution_count": 31,
   "id": "cd899407",
   "metadata": {},
   "outputs": [
    {
     "data": {
      "text/plain": [
       "Chemistry                  640\n",
       "Biology                    635\n",
       "Astronomy                  619\n",
       "Physics                    610\n",
       "Mathematics                582\n",
       "Economics                  511\n",
       "Business Administration    334\n",
       "Political Science          309\n",
       "Marketing                  239\n",
       "Anthropology               146\n",
       "Finance                    135\n",
       "Psychology                  76\n",
       "Accounting                  62\n",
       "Sociology                   31\n",
       "International Business      29\n",
       "Music                       21\n",
       "Mechanical Engineering      11\n",
       "Philosophy                   4\n",
       "Fine Arts                    3\n",
       "Civil Engineering            3\n",
       "Name: Major, dtype: int64"
      ]
     },
     "execution_count": 31,
     "metadata": {},
     "output_type": "execute_result"
    },
    {
     "data": {
      "image/png": "[encoded data removed]",
      "text/plain": [
       "<Figure size 432x288 with 1 Axes>"
      ]
     },
     "metadata": {
      "needs_background": "light"
     },
     "output_type": "display_data"
    }
   ],
   "source": [
    "plt.hist(major)\n",
    "df['Major'].value_counts()"
   ]
  },
  {
   "cell_type": "markdown",
   "id": "79dd3967",
   "metadata": {},
   "source": [
    "For major and university as well, we have skewed data and fewer observations for certain attribute values."
   ]
  },
  {
   "cell_type": "code",
   "execution_count": 34,
   "id": "87bd66ce",
   "metadata": {},
   "outputs": [
    {
     "data": {
      "text/plain": [
       "Butler University                                            1614\n",
       "Indiana State University                                     1309\n",
       "Ball State University                                        1085\n",
       "Indiana University-Purdue University Indianapolis (IUPUI)     682\n",
       "University of Notre Dame                                      144\n",
       "University of Evansville                                      143\n",
       "Indiana University Bloomington                                 12\n",
       "Valparaiso University                                           9\n",
       "Purdue University                                               1\n",
       "DePauw University                                               1\n",
       "Name: University, dtype: int64"
      ]
     },
     "execution_count": 34,
     "metadata": {},
     "output_type": "execute_result"
    },
    {
     "data": {
      "image/png": "[encoded data removed]",
      "text/plain": [
       "<Figure size 432x288 with 1 Axes>"
      ]
     },
     "metadata": {
      "needs_background": "light"
     },
     "output_type": "display_data"
    }
   ],
   "source": [
    "plt.hist(uni)\n",
    "uni.value_counts()"
   ]
  },
  {
   "cell_type": "markdown",
   "id": "e9a4c2fe",
   "metadata": {},
   "source": [
    "Class balance for Order is pretty good. Each category has an almost equal number of values, so there is no bias introduced for the column. That is, our model won't do better only because it is predicting labels for the majority class. These insights can be helpful when concentrating a marketing strategy towards students from a certain major or university. "
   ]
  },
  {
   "cell_type": "code",
   "execution_count": 36,
   "id": "d051218a",
   "metadata": {},
   "outputs": [
    {
     "data": {
      "text/plain": [
       "Sugar Cream Pie                                             512\n",
       "Cornbread Hush Puppies                                      510\n",
       "Indiana Pork Chili                                          510\n",
       "Sweet Potato Fries                                          508\n",
       "Ultimate Grilled Cheese Sandwich (with bacon and tomato)    503\n",
       "Indiana Buffalo Chicken Tacos (3 tacos)                     496\n",
       "Indiana Corn on the Cob (brushed with garlic butter)        495\n",
       "Breaded Pork Tenderloin Sandwich                            494\n",
       "Fried Catfish Basket                                        490\n",
       "Hoosier BBQ Pulled Pork Sandwich                            482\n",
       "Name: Order, dtype: int64"
      ]
     },
     "execution_count": 36,
     "metadata": {},
     "output_type": "execute_result"
    },
    {
     "data": {
      "image/png": "[encoded data removed]",
      "text/plain": [
       "<Figure size 432x288 with 1 Axes>"
      ]
     },
     "metadata": {
      "needs_background": "light"
     },
     "output_type": "display_data"
    }
   ],
   "source": [
    "plt.hist(order)\n",
    "df['Order'].value_counts()"
   ]
  },
  {
   "cell_type": "code",
   "execution_count": 67,
   "id": "305b4b3d",
   "metadata": {},
   "outputs": [
    {
     "data": {
      "text/plain": [
       "University             Major                  \n",
       "Ball State University  Mathematics                206\n",
       "                       Chemistry                  167\n",
       "                       Biology                    143\n",
       "                       Physics                    141\n",
       "                       Astronomy                  135\n",
       "                                                 ... \n",
       "Valparaiso University  Business Administration      1\n",
       "                       Economics                    1\n",
       "                       Finance                      1\n",
       "                       Marketing                    1\n",
       "                       Political Science            1\n",
       "Name: Major, Length: 117, dtype: int64"
      ]
     },
     "execution_count": 67,
     "metadata": {},
     "output_type": "execute_result"
    }
   ],
   "source": [
    "df.groupby('University')['Major'].value_counts()"
   ]
  },
  {
   "cell_type": "code",
   "execution_count": 58,
   "id": "848a3cca",
   "metadata": {},
   "outputs": [],
   "source": [
    "uni_names = uni.unique()"
   ]
  },
  {
   "cell_type": "code",
   "execution_count": null,
   "id": "b4815862",
   "metadata": {},
   "outputs": [],
   "source": [
    "for uni in uni_names:\n",
    "    df.groupby('University')"
   ]
  },
  {
   "cell_type": "code",
   "execution_count": 69,
   "id": "14d0200b",
   "metadata": {},
   "outputs": [
    {
     "data": {
      "text/plain": [
       "array(['Indiana State University', 'Ball State University',\n",
       "       'Butler University',\n",
       "       'Indiana University-Purdue University Indianapolis (IUPUI)',\n",
       "       'University of Notre Dame', 'University of Evansville',\n",
       "       'Valparaiso University', 'Purdue University',\n",
       "       'Indiana University Bloomington', 'DePauw University'],\n",
       "      dtype=object)"
      ]
     },
     "execution_count": 69,
     "metadata": {},
     "output_type": "execute_result"
    }
   ],
   "source": [
    "uni_names"
   ]
  },
  {
   "cell_type": "code",
   "execution_count": 257,
   "id": "47308f76",
   "metadata": {},
   "outputs": [
    {
     "data": {
      "text/plain": [
       "(array([   8.,   40.,  247.,  857., 1314., 1316.,  883.,  282.,   49.,\n",
       "           4.]),\n",
       " array([ 8. ,  8.9,  9.8, 10.7, 11.6, 12.5, 13.4, 14.3, 15.2, 16.1, 17. ]),\n",
       " <BarContainer object of 10 artists>)"
      ]
     },
     "execution_count": 257,
     "metadata": {},
     "output_type": "execute_result"
    },
    {
     "data": {
      "image/png": "[encoded data removed]",
      "text/plain": [
       "<Figure size 432x288 with 1 Axes>"
      ]
     },
     "metadata": {
      "needs_background": "light"
     },
     "output_type": "display_data"
    }
   ],
   "source": [
    "plt.hist(df['Time'])"
   ]
  },
  {
   "cell_type": "markdown",
   "id": "39a1b5d0",
   "metadata": {},
   "source": [
    "For the time column, we can observe that the most number of orders are placed between 12 noon - 2pm. Lunch time seems to be the most popular time for the food truck. Discounts can be given out for breakfast and dinner time to encourage more customers."
   ]
  },
  {
   "cell_type": "markdown",
   "id": "b05683fc",
   "metadata": {},
   "source": [
    "Data cleaning: To clean and process the data, we remove null values."
   ]
  },
  {
   "cell_type": "code",
   "execution_count": 262,
   "id": "e90a5150",
   "metadata": {},
   "outputs": [],
   "source": [
    "def process_data(file_name):\n",
    "    df = pd.read_csv(file_name)\n",
    "    #Check NULL values\n",
    "    df.isnull().sum()\n",
    "    df.shape\n",
    "    df.drop_duplicates().shape\n",
    "    #Check NULL values\n",
    "    print(\"Null: \", df.isnull().sum())\n",
    "    newdf = df\n",
    "    \n",
    "    le = LabelEncoder()\n",
    "\n",
    "    columns = ['Year', 'Major', 'University', 'Order']\n",
    "\n",
    "    for col in columns:\n",
    "    \n",
    "        label = le.fit_transform(df[col])\n",
    "        name = col + \"Code\"\n",
    "        newdf[name] = label\n",
    "    newdf = newdf.drop(['Year', 'Major', 'University', 'Order'], axis=1)\n",
    "    return newdf"
   ]
  },
  {
   "cell_type": "code",
   "execution_count": 263,
   "id": "1d6edd98",
   "metadata": {},
   "outputs": [
    {
     "name": "stdout",
     "output_type": "stream",
     "text": [
      "Null:  Year          0\n",
      "Major         0\n",
      "University    0\n",
      "Time          0\n",
      "Order         0\n",
      "dtype: int64\n"
     ]
    }
   ],
   "source": [
    "newdf = process_data('Dataset.csv')"
   ]
  },
  {
   "cell_type": "markdown",
   "id": "8dde82c0",
   "metadata": {},
   "source": [
    "Observation: There are 3604 duplicate rows in the dataset, which is about 72% of the dataset. In this case, it's better to keep the duplicates instead of dropping them, as some rows may have been genuine orders from students with the same attributes, and some may have been purposely put in to give weightage to certain data rows. Removing these duplicates could introduce additional bias, so we won't do so. However, we don't want duplicate rows across the training and testing data. This skews prediction results, as a row that is present in the training data will likely be correctly predicted by the model. We will keep all the duplicates in the training data for this reason. \n",
    "\n",
    "Encoding categorical variables\n",
    "\n",
    "We need to convert the categorical labels to encoded data so that it may be processed by the model. "
   ]
  },
  {
   "cell_type": "markdown",
   "id": "3c3c03b5",
   "metadata": {},
   "source": [
    "Model selection: GradientBooster\n",
    "\n",
    "We will use the GradientBooster classification model, which is good for multi-class classification and is a more accurate predictor than decision trees or random forests. "
   ]
  },
  {
   "cell_type": "markdown",
   "id": "d25405c9",
   "metadata": {},
   "source": [
    "Training:\n",
    "\n",
    "The train-test split I want to use is a 80-20 ratio. I will explore two kinds of splitting.\n",
    "\n",
    "1)We ensure that all duplicates are in the training data. To calculate the split such that the total split remains in this ratio, we do the following: \n",
    "\n",
    "The goal is to keep 20% of data for training. 20% of 5000 rows = 1000 rows must be in test. The number of non duplicate rows we have is 1396. We need to perform the split on this data. 1000/1396 must go for the test. This is what we need to use for the test percentage. Out of the 1396 non duplicate rows, 72% must be in test and the rest in training. Then, the duplicate 3604 rows are added to the training set to ensure the ratio remains consistent.\n",
    "\n",
    "2) We ignore the duplicate rows and split it in a regular manner."
   ]
  },
  {
   "cell_type": "markdown",
   "id": "dba05c96",
   "metadata": {},
   "source": [
    "Method 1"
   ]
  },
  {
   "cell_type": "code",
   "execution_count": 241,
   "id": "42049976",
   "metadata": {},
   "outputs": [],
   "source": [
    "def split_with_duplicates(newdf, test_size):\n",
    "    #extract the non duplicate rows\n",
    "    nonduplicate = newdf.drop_duplicates()\n",
    "    X = nonduplicate.drop('OrderCode', axis=1)\n",
    "    Y = nonduplicate['OrderCode']\n",
    "    \n",
    "    X_train, X_test, y_train, y_test = train_test_split(X, Y, test_size=test_size)\n",
    "    \n",
    "    #extract duplicated rows and concatenate them with the training data\n",
    "    duplicates = newdf[newdf.duplicated()]\n",
    "    dupX = duplicates.drop('OrderCode', axis=1)\n",
    "    dupY = duplicates['OrderCode']\n",
    "    trainX = pd.concat([X_train, dupX])\n",
    "    trainY = pd.concat([y_train, dupY])\n",
    "    \n",
    "    return trainX, X_test, trainY, y_test"
   ]
  },
  {
   "cell_type": "markdown",
   "id": "71010d52",
   "metadata": {},
   "source": [
    "Method 2"
   ]
  },
  {
   "cell_type": "code",
   "execution_count": 252,
   "id": "bd47753b",
   "metadata": {},
   "outputs": [],
   "source": [
    "def train_test_split_regular(newdf, test_size):\n",
    "    X = newdf.drop('OrderCode', axis=1)\n",
    "    Y = newdf['OrderCode']\n",
    "    X_train, X_test, y_train, y_test = train_test_split(X, Y, test_size=test_size)\n",
    "    return X_train, X_test, y_train, y_test"
   ]
  },
  {
   "cell_type": "code",
   "execution_count": 264,
   "id": "8cc7d526",
   "metadata": {},
   "outputs": [],
   "source": [
    "import pickle\n"
   ]
  },
  {
   "cell_type": "code",
   "execution_count": 267,
   "id": "67069332",
   "metadata": {},
   "outputs": [],
   "source": [
    "def train_model(X_train, X_test, y_train, y_test, method):\n",
    "    gradient_booster = GradientBoostingClassifier(learning_rate=0.2)\n",
    "    gradient_booster.fit(X_train,y_train)\n",
    "    y_pred = gradient_booster.predict(X_test)\n",
    "    print(classification_report(y_test,y_pred))\n",
    "    \n",
    "\n",
    "    # save\n",
    "    if method == 1:\n",
    "        \n",
    "        with open('model_1.pkl','wb') as f:\n",
    "            pickle.dump(gradient_booster,f)\n",
    "    else:\n",
    "        with open('model_2.pkl','wb') as f:\n",
    "            pickle.dump(gradient_booster,f)\n",
    "\n",
    "    cm = confusion_matrix(y_test, y_pred)\n",
    "    ConfusionMatrixDisplay(confusion_matrix=cm).plot();"
   ]
  },
  {
   "cell_type": "code",
   "execution_count": 269,
   "id": "faa96659",
   "metadata": {},
   "outputs": [
    {
     "name": "stdout",
     "output_type": "stream",
     "text": [
      "              precision    recall  f1-score   support\n",
      "\n",
      "           0       0.54      0.40      0.46       133\n",
      "           1       0.43      0.46      0.44       136\n",
      "           2       0.43      0.37      0.40       120\n",
      "           3       0.29      0.31      0.30        65\n",
      "           4       0.52      0.40      0.45       124\n",
      "           5       0.23      0.40      0.29        47\n",
      "           6       0.32      0.47      0.38        45\n",
      "           7       0.49      0.52      0.50       128\n",
      "           8       0.57      0.45      0.50       153\n",
      "           9       0.30      0.49      0.37        55\n",
      "\n",
      "    accuracy                           0.43      1006\n",
      "   macro avg       0.41      0.43      0.41      1006\n",
      "weighted avg       0.45      0.43      0.43      1006\n",
      "\n"
     ]
    },
    {
     "data": {
      "image/png": "[encoded data removed]",
      "text/plain": [
       "<Figure size 432x288 with 2 Axes>"
      ]
     },
     "metadata": {
      "needs_background": "light"
     },
     "output_type": "display_data"
    }
   ],
   "source": [
    "X_train, X_test, y_train, y_test= split_with_duplicates(newdf, 0.72)\n",
    "train_model(X_train, X_test, y_train, y_test, 1)"
   ]
  },
  {
   "cell_type": "code",
   "execution_count": 270,
   "id": "7e6019e5",
   "metadata": {},
   "outputs": [
    {
     "name": "stdout",
     "output_type": "stream",
     "text": [
      "              precision    recall  f1-score   support\n",
      "\n",
      "           0       0.58      0.45      0.50       101\n",
      "           1       0.56      0.53      0.54       114\n",
      "           2       0.69      0.61      0.65       103\n",
      "           3       0.73      0.67      0.70        95\n",
      "           4       0.56      0.45      0.49       101\n",
      "           5       0.63      0.80      0.71        91\n",
      "           6       0.75      0.85      0.80       104\n",
      "           7       0.53      0.67      0.59        92\n",
      "           8       0.57      0.56      0.56        95\n",
      "           9       0.67      0.72      0.69       104\n",
      "\n",
      "    accuracy                           0.63      1000\n",
      "   macro avg       0.63      0.63      0.62      1000\n",
      "weighted avg       0.63      0.63      0.62      1000\n",
      "\n"
     ]
    },
    {
     "data": {
      "image/png": "[encoded data removed]",
      "text/plain": [
       "<Figure size 432x288 with 2 Axes>"
      ]
     },
     "metadata": {
      "needs_background": "light"
     },
     "output_type": "display_data"
    }
   ],
   "source": [
    "X_train, X_test, y_train, y_test= train_test_split_regular(newdf, 0.2)\n",
    "train_model(X_train, X_test, y_train, y_test, 2)"
   ]
  },
  {
   "cell_type": "markdown",
   "id": "cc3304f1",
   "metadata": {},
   "source": [
    "Using a gradient boosting classifier, we see that the accuracy is much lower when we keep duplicates in the training set as opposed to when we ignore the duplicates. This is expected as we are training the model with mostly duplicates, and completely unseen data or data which isn't similar to any of the train samples is in the test set. When we ignore the duplicates and train the model, the accuracy is higher because it's likely that some of the test data is also in the train data, so the model has seen it before.\n",
    "\n",
    "Judging by the confusion matrix, the model does a better job at predicting labels correctly in the second method."
   ]
  }
 ],
 "metadata": {
  "kernelspec": {
   "display_name": "Python 3",
   "language": "python",
   "name": "python3"
  },
  "language_info": {
   "codemirror_mode": {
    "name": "ipython",
    "version": 3
   },
   "file_extension": ".py",
   "mimetype": "text/x-python",
   "name": "python",
   "nbconvert_exporter": "python",
   "pygments_lexer": "ipython3",
   "version": "3.8.8"
  }
 },
 "nbformat": 4,
 "nbformat_minor": 5
}
